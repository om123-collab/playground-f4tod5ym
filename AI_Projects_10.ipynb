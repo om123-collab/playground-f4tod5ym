{
  "nbformat": 4,
  "nbformat_minor": 0,
  "metadata": {
    "colab": {
      "provenance": [],
      "authorship_tag": "ABX9TyNBWo8ONcfNUswOfhj40K0B",
      "include_colab_link": true
    },
    "kernelspec": {
      "name": "python3",
      "display_name": "Python 3"
    },
    "language_info": {
      "name": "python"
    }
  },
  "cells": [
    {
      "cell_type": "markdown",
      "metadata": {
        "id": "view-in-github",
        "colab_type": "text"
      },
      "source": [
        "<a href=\"https://colab.research.google.com/github/om123-collab/playground-f4tod5ym/blob/master/AI_Projects_10.ipynb\" target=\"_parent\"><img src=\"https://colab.research.google.com/assets/colab-badge.svg\" alt=\"Open In Colab\"/></a>"
      ]
    },
    {
      "cell_type": "code",
      "source": [
        "import random\n",
        "\n",
        "def generate_question(operator):\n",
        "  \"\"\"\n",
        "  Generates a random math question based on the given operator.\n",
        "\n",
        "  Args:\n",
        "    operator: The operator to use in the question ('+', '-', '*', '/').\n",
        "\n",
        "  Returns:\n",
        "    A tuple containing the question string and the correct answer.\n",
        "  \"\"\"\n",
        "  num1 = random.randint(1, 10)\n",
        "  num2 = random.randint(1, 10)\n",
        "\n",
        "  if operator == '+':\n",
        "    question = f\"{num1} + {num2} = \"\n",
        "    answer = num1 + num2\n",
        "  elif operator == '-':\n",
        "    question = f\"{num1} - {num2} = \"\n",
        "    answer = num1 - num2\n",
        "  elif operator == '*':\n",
        "    question = f\"{num1} * {num2} = \"\n",
        "    answer = num1 * num2\n",
        "  elif operator == '/':\n",
        "    # Ensure integer division for simplicity\n",
        "    num1 = num1 * num2\n",
        "    question = f\"{num1} / {num2} = \"\n",
        "    answer = num1 // num2\n",
        "  else:\n",
        "    raise ValueError(\"Invalid operator. Supported operators: '+', '-', '*', '/'\")\n",
        "\n",
        "  return question, answer\n",
        "\n",
        "def play_math_quiz():\n",
        "  \"\"\"\n",
        "  Plays a math quiz with the user.\n",
        "  \"\"\"\n",
        "  operators = ['+', '-', '*', '/']\n",
        "  num_questions = 5\n",
        "  score = 0\n",
        "\n",
        "  print(\"Welcome to the Math Quiz!\")\n",
        "  print(\"You will be asked\", num_questions, \"questions.\")\n",
        "\n",
        "  for _ in range(num_questions):\n",
        "    operator = random.choice(operators)\n",
        "    question, answer = generate_question(operator)\n",
        "\n",
        "    print(question, end=\"\")\n",
        "    user_answer = int(input())\n",
        "\n",
        "    if user_answer == answer:\n",
        "      print(\"Correct!\")\n",
        "      score += 1\n",
        "    else:\n",
        "      print(\"Incorrect. The correct answer is\", answer)\n",
        "\n",
        "  print(\"Quiz complete!\")\n",
        "  print(\"Your score:\", score, \"/\", num_questions)\n",
        "\n",
        "if __name__ == \"__main__\":\n",
        "  play_math_quiz()"
      ],
      "metadata": {
        "colab": {
          "base_uri": "https://localhost:8080/"
        },
        "id": "320v6VmAV18R",
        "outputId": "310e5f24-54bc-4da6-858d-0738cfdd42e4"
      },
      "execution_count": 2,
      "outputs": [
        {
          "output_type": "stream",
          "name": "stdout",
          "text": [
            "Welcome to the Math Quiz!\n",
            "You will be asked 5 questions.\n",
            "10 * 2 = 20\n",
            "Correct!\n",
            "10 * 3 = 30\n",
            "Correct!\n",
            "2 * 2 = 40\n",
            "Incorrect. The correct answer is 4\n",
            "21 / 7 = 3\n",
            "Correct!\n",
            "50 / 10 = 5\n",
            "Correct!\n",
            "Quiz complete!\n",
            "Your score: 4 / 5\n"
          ]
        }
      ]
    }
  ]
}