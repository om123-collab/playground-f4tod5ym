{
  "nbformat": 4,
  "nbformat_minor": 0,
  "metadata": {
    "colab": {
      "provenance": [],
      "authorship_tag": "ABX9TyOMNzS6RvAcnRqlXuG5kLNZ",
      "include_colab_link": true
    },
    "kernelspec": {
      "name": "python3",
      "display_name": "Python 3"
    },
    "language_info": {
      "name": "python"
    }
  },
  "cells": [
    {
      "cell_type": "markdown",
      "metadata": {
        "id": "view-in-github",
        "colab_type": "text"
      },
      "source": [
        "<a href=\"https://colab.research.google.com/github/om123-collab/playground-f4tod5ym/blob/master/Sentiment_Analysis.ipynb\" target=\"_parent\"><img src=\"https://colab.research.google.com/assets/colab-badge.svg\" alt=\"Open In Colab\"/></a>"
      ]
    },
    {
      "cell_type": "code",
      "source": [
        "import nltk\n",
        "from nltk.sentiment.vader import SentimentIntensityAnalyzer\n",
        "\n",
        "# Download necessary NLTK data (if not already downloaded)\n",
        "nltk.download('vader_lexicon')\n",
        "\n",
        "# Initialize the sentiment analyzer\n",
        "analyzer = SentimentIntensityAnalyzer()\n",
        "\n",
        "# Example text\n",
        "text = \"This movie was absolutely fantastic! I loved every minute of it.\"\n",
        "\n",
        "# Perform sentiment analysis\n",
        "sentiment_scores = analyzer.polarity_scores(text)\n",
        "\n",
        "# Print the sentiment scores\n",
        "print(\"Sentiment Scores:\")\n",
        "print(\"Positive:\", sentiment_scores['pos'])\n",
        "print(\"Negative:\", sentiment_scores['neg'])\n",
        "print(\"Neutral:\", sentiment_scores['neu'])\n",
        "print(\"Compound:\", sentiment_scores['compound'])\n",
        "\n",
        "# Determine sentiment based on compound score\n",
        "if sentiment_scores['compound'] >= 0.05:\n",
        "    sentiment = \"Positive\"\n",
        "elif sentiment_scores['compound'] <= -0.05:\n",
        "    sentiment = \"Negative\"\n",
        "else:\n",
        "    sentiment = \"Neutral\"\n",
        "\n",
        "print(\"Overall Sentiment:\", sentiment)"
      ],
      "metadata": {
        "colab": {
          "base_uri": "https://localhost:8080/"
        },
        "id": "xmtEQ32hntz4",
        "outputId": "c4c58acf-f321-4819-fbfb-b40bed100920"
      },
      "execution_count": 6,
      "outputs": [
        {
          "output_type": "stream",
          "name": "stdout",
          "text": [
            "Sentiment Scores:\n",
            "Positive: 0.511\n",
            "Negative: 0.0\n",
            "Neutral: 0.489\n",
            "Compound: 0.8542\n",
            "Overall Sentiment: Positive\n"
          ]
        },
        {
          "output_type": "stream",
          "name": "stderr",
          "text": [
            "[nltk_data] Downloading package vader_lexicon to /root/nltk_data...\n"
          ]
        }
      ]
    }
  ]
}