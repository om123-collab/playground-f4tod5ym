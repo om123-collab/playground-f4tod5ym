{
  "nbformat": 4,
  "nbformat_minor": 0,
  "metadata": {
    "colab": {
      "provenance": [],
      "authorship_tag": "ABX9TyPvvZQbvAY7LoVPfRUwFSLV",
      "include_colab_link": true
    },
    "kernelspec": {
      "name": "python3",
      "display_name": "Python 3"
    },
    "language_info": {
      "name": "python"
    }
  },
  "cells": [
    {
      "cell_type": "markdown",
      "metadata": {
        "id": "view-in-github",
        "colab_type": "text"
      },
      "source": [
        "<a href=\"https://colab.research.google.com/github/om123-collab/playground-f4tod5ym/blob/master/8_Text_Summarization.ipynb\" target=\"_parent\"><img src=\"https://colab.research.google.com/assets/colab-badge.svg\" alt=\"Open In Colab\"/></a>"
      ]
    },
    {
      "cell_type": "code",
      "source": [
        "import nltk\n",
        "# Download necessary NLTK resources\n",
        "nltk.download('punkt_tab') # This line was missing, downloading 'punkt_tab'\n",
        "nltk.download('stopwords')\n",
        "\n",
        "from nltk.corpus import stopwords\n",
        "from nltk.tokenize import word_tokenize, sent_tokenize\n",
        "from sklearn.metrics.pairwise import cosine_similarity\n",
        "from sklearn.feature_extraction.text import TfidfVectorizer\n",
        "\n",
        "def summarize(text, num_sentences=3):\n",
        "  \"\"\"\n",
        "  Summarizes the given text using TextRank.\n",
        "\n",
        "  Args:\n",
        "    text: The input text to summarize.\n",
        "    num_sentences: The number of sentences to include in the summary.\n",
        "\n",
        "  Returns:\n",
        "    A string containing the summary.\n",
        "  \"\"\"\n",
        "\n",
        "  # Downloads the 'stopwords' dataset if it hasn't been downloaded already\n",
        "  # nltk.download('stopwords')  # This line is executed before the function definition to avoid downloading multiple times\n",
        "\n",
        "\n",
        "  stop_words = set(stopwords.words('english'))\n",
        "  sentences = sent_tokenize(text)\n",
        "\n",
        "  # Preprocess sentences\n",
        "  clean_sentences = []\n",
        "  for sentence in sentences:\n",
        "    words = word_tokenize(sentence.lower())\n",
        "    words = [word for word in words if word not in stop_words]\n",
        "    clean_sentences.append(\" \".join(words))\n",
        "\n",
        "  # Create TF-IDF vectors\n",
        "  vectorizer = TfidfVectorizer()\n",
        "  tfidf_matrix = vectorizer.fit_transform(clean_sentences)\n",
        "\n",
        "  # Calculate similarity scores\n",
        "  similarity_matrix = cosine_similarity(tfidf_matrix)\n",
        "\n",
        "  # Calculate sentence scores using PageRank\n",
        "  scores = [0] * len(sentences)\n",
        "  for i in range(len(sentences)):\n",
        "    for j in range(len(sentences)):\n",
        "      scores[i] += similarity_matrix[i][j]\n",
        "\n",
        "  # Rank sentences by score\n",
        "  ranked_sentences = sorted(((scores[i], s) for i, s in enumerate(sentences)), reverse=True)\n",
        "\n",
        "  # Extract top-ranked sentences\n",
        "  summary_sentences = [ranked_sentence[1] for ranked_sentence in ranked_sentences[:num_sentences]]\n",
        "\n",
        "  return \" \".join(summary_sentences)\n",
        "\n",
        "# Example usage\n",
        "text = \"\"\"This is an example text.\n",
        "It contains multiple sentences.\n",
        "We want to summarize this text.\n",
        "The summary should be concise and informative.\"\"\"\n",
        "\n",
        "summary = summarize(text)\n",
        "print(summary)"
      ],
      "metadata": {
        "colab": {
          "base_uri": "https://localhost:8080/"
        },
        "id": "fi9PXe28mwtX",
        "outputId": "9f7df650-6446-4dd6-9a0c-0e131e30fae8"
      },
      "execution_count": 14,
      "outputs": [
        {
          "output_type": "stream",
          "name": "stderr",
          "text": [
            "[nltk_data] Downloading package punkt_tab to /root/nltk_data...\n",
            "[nltk_data]   Unzipping tokenizers/punkt_tab.zip.\n",
            "[nltk_data] Downloading package stopwords to /root/nltk_data...\n",
            "[nltk_data]   Package stopwords is already up-to-date!\n"
          ]
        },
        {
          "output_type": "stream",
          "name": "stdout",
          "text": [
            "We want to summarize this text. This is an example text. The summary should be concise and informative.\n"
          ]
        }
      ]
    }
  ]
}