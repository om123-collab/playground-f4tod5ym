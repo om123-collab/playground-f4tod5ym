{
  "nbformat": 4,
  "nbformat_minor": 0,
  "metadata": {
    "colab": {
      "provenance": [],
      "authorship_tag": "ABX9TyMHN//AsJ7ar/ZYEVd5Y9ay",
      "include_colab_link": true
    },
    "kernelspec": {
      "name": "python3",
      "display_name": "Python 3"
    },
    "language_info": {
      "name": "python"
    }
  },
  "cells": [
    {
      "cell_type": "markdown",
      "metadata": {
        "id": "view-in-github",
        "colab_type": "text"
      },
      "source": [
        "<a href=\"https://colab.research.google.com/github/om123-collab/playground-f4tod5ym/blob/master/Simple_recommendation_system.ipynb\" target=\"_parent\"><img src=\"https://colab.research.google.com/assets/colab-badge.svg\" alt=\"Open In Colab\"/></a>"
      ]
    },
    {
      "cell_type": "code",
      "source": [
        "def get_user_preferences():\n",
        "  \"\"\"Gets user preferences for movies or books.\"\"\"\n",
        "  print(\"Enter your preferences (comma-separated):\")\n",
        "  preferences = input(\"e.g., action, comedy, sci-fi, romance, thriller: \")\n",
        "  return preferences.lower().split(\",\")\n",
        "\n",
        "def recommend_items(preferences, items):\n",
        "  \"\"\"Recommends items based on user preferences.\"\"\"\n",
        "  recommendations = []\n",
        "  for item in items:\n",
        "    if any(pref in item[\"genres\"] for pref in preferences):\n",
        "      recommendations.append(item)\n",
        "  return recommendations\n",
        "\n",
        "def display_recommendations(recommendations):\n",
        "  \"\"\"Displays the recommended items to the user.\"\"\"\n",
        "  if recommendations:\n",
        "    print(\"\\nHere are some recommendations for you:\")\n",
        "    for item in recommendations:\n",
        "      print(f\"- {item['title']}\")\n",
        "  else:\n",
        "    print(\"\\nNo recommendations found based on your preferences.\")\n",
        "\n",
        "def main():\n",
        "  \"\"\"Main function to run the recommendation system.\"\"\"\n",
        "  movies = [\n",
        "    {\"title\": \"The Matrix\", \"genres\": [\"sci-fi\", \"action\"]},\n",
        "    {\"title\": \"The Shawshank Redemption\", \"genres\": [\"drama\"]},\n",
        "    {\"title\": \"The Godfather\", \"genres\": [\"crime\", \"drama\"]},\n",
        "    {\"title\": \"Inception\", \"genres\": [\"sci-fi\", \"action\", \"thriller\"]},\n",
        "    {\"title\": \"The Avengers\", \"genres\": [\"action\", \"sci-fi\", \"adventure\"]},\n",
        "    {\"title\": \"The Notebook\", \"genres\": [\"romance\", \"drama\"]}\n",
        "  ]\n",
        "\n",
        "  books = [\n",
        "    {\"title\": \"The Lord of the Rings\", \"genres\": [\"fantasy\", \"adventure\"]},\n",
        "    {\"title\": \"1984\", \"genres\": [\"sci-fi\", \"dystopian\"]},\n",
        "    {\"title\": \"To Kill a Mockingbird\", \"genres\": [\"classic\", \"drama\"]},\n",
        "    {\"title\": \"Pride and Prejudice\", \"genres\": [\"romance\", \"classic\"]},\n",
        "    {\"title\": \"The Hobbit\", \"genres\": [\"fantasy\", \"adventure\"]},\n",
        "    {\"title\": \"The Hitchhiker's Guide to the Galaxy\", \"genres\": [\"sci-fi\", \"comedy\"]}\n",
        "  ]\n",
        "\n",
        "  print(\"Welcome to the Simple Recommendation System!\")\n",
        "  print(\"Choose what you want recommendations for:\")\n",
        "  print(\"1. Movies\")\n",
        "  print(\"2. Books\")\n",
        "  choice = int(input(\"Enter your choice (1 or 2): \"))\n",
        "\n",
        "  if choice == 1:\n",
        "    items = movies\n",
        "  elif choice == 2:\n",
        "    items = books\n",
        "  else:\n",
        "    print(\"Invalid choice.\")\n",
        "    return\n",
        "\n",
        "  user_preferences = get_user_preferences()\n",
        "  recommendations = recommend_items(user_preferences, items)\n",
        "  display_recommendations(recommendations)\n",
        "\n",
        "if __name__ == \"__main__\":\n",
        "  main()"
      ],
      "metadata": {
        "colab": {
          "base_uri": "https://localhost:8080/"
        },
        "id": "W9DlHRk-IIq0",
        "outputId": "039d72da-0890-43af-c782-5732572e48ae"
      },
      "execution_count": 4,
      "outputs": [
        {
          "output_type": "stream",
          "name": "stdout",
          "text": [
            "Welcome to the Simple Recommendation System!\n",
            "Choose what you want recommendations for:\n",
            "1. Movies\n",
            "2. Books\n",
            "Enter your choice (1 or 2): 1\n",
            "Enter your preferences (comma-separated):\n",
            "e.g., action, comedy, sci-fi, romance, thriller: romance\n",
            "\n",
            "Here are some recommendations for you:\n",
            "- The Notebook\n"
          ]
        }
      ]
    }
  ]
}