{
  "nbformat": 4,
  "nbformat_minor": 0,
  "metadata": {
    "colab": {
      "provenance": [],
      "authorship_tag": "ABX9TyPf9F40aUG2sx+cWc1LeMmS",
      "include_colab_link": true
    },
    "kernelspec": {
      "name": "python3",
      "display_name": "Python 3"
    },
    "language_info": {
      "name": "python"
    }
  },
  "cells": [
    {
      "cell_type": "markdown",
      "metadata": {
        "id": "view-in-github",
        "colab_type": "text"
      },
      "source": [
        "<a href=\"https://colab.research.google.com/github/om123-collab/playground-f4tod5ym/blob/master/Pizza_order.ipynb\" target=\"_parent\"><img src=\"https://colab.research.google.com/assets/colab-badge.svg\" alt=\"Open In Colab\"/></a>"
      ]
    },
    {
      "cell_type": "code",
      "execution_count": null,
      "metadata": {
        "id": "7FZ6FbSB_-Vn"
      },
      "outputs": [],
      "source": [
        "import random\n",
        "\n",
        "def get_user_choice(options):\n",
        "  \"\"\"\n",
        "  Gets user input and validates it against provided options.\n",
        "\n",
        "  Args:\n",
        "    options: A list of valid options.\n",
        "\n",
        "  Returns:\n",
        "    The user's valid choice.\n",
        "  \"\"\"\n",
        "  while True:\n",
        "    user_input = input(\"Enter your choice: \").lower()\n",
        "    if user_input in options:\n",
        "      return user_input\n",
        "    else:\n",
        "      print(f\"Invalid choice. Please select from: {', '.join(options)}\")\n",
        "\n",
        "def order_pizza():\n",
        "  \"\"\"\n",
        "  Handles the pizza ordering process.\n",
        "  \"\"\"\n",
        "  print(\"Welcome to the Pizza Palace!\")\n",
        "  print(\"Menu:\")\n",
        "  print(\"1. Margherita\")\n",
        "  print(\"2. Pepperoni\")\n",
        "  print(\"3. Veggie\")\n",
        "\n",
        "  pizza_choices = [\"1\", \"2\", \"3\"]\n",
        "  pizza_choice = get_user_choice(pizza_choices)\n",
        "\n",
        "  if pizza_choice == \"1\":\n",
        "    pizza = \"Margherita\"\n",
        "  elif pizza_choice == \"2\":\n",
        "    pizza = \"Pepperoni\"\n",
        "  else:\n",
        "    pizza = \"Veggie\"\n",
        "\n",
        "  print(f\"You selected: {pizza}\")\n",
        "\n",
        "  # Optional: Add more customization options (size, toppings, etc.)\n",
        "\n",
        "  print(\"Order confirmed!\")\n",
        "\n",
        "if __name__ == \"__main__\":\n",
        "  order_pizza()"
      ]
    }
  ]
}