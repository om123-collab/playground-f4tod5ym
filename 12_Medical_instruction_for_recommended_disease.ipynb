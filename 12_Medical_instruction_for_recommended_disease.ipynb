{
  "nbformat": 4,
  "nbformat_minor": 0,
  "metadata": {
    "colab": {
      "provenance": [],
      "authorship_tag": "ABX9TyNLqtzAcRf0D9sF1hwLJmZg",
      "include_colab_link": true
    },
    "kernelspec": {
      "name": "python3",
      "display_name": "Python 3"
    },
    "language_info": {
      "name": "python"
    }
  },
  "cells": [
    {
      "cell_type": "markdown",
      "metadata": {
        "id": "view-in-github",
        "colab_type": "text"
      },
      "source": [
        "<a href=\"https://colab.research.google.com/github/om123-collab/playground-f4tod5ym/blob/master/12_Medical_instruction_for_recommended_disease.ipynb\" target=\"_parent\"><img src=\"https://colab.research.google.com/assets/colab-badge.svg\" alt=\"Open In Colab\"/></a>"
      ]
    },
    {
      "cell_type": "code",
      "source": [
        "import pandas as pd\n",
        "\n",
        "def create_dummy_data():\n",
        "  \"\"\"Creates a sample dataset (replace with actual medical data).\"\"\"\n",
        "  data = {\n",
        "      'Disease': ['Flu', 'Cold', 'Malaria', 'Typhoid', 'Dengue'],\n",
        "      'Symptom_1': ['Fever', 'Runny Nose', 'Fever', 'High Fever', 'Fever'],\n",
        "      'Symptom_2': ['Cough', 'Sneezing', 'Chills', 'Headache', 'Muscle Aches'],\n",
        "      'Symptom_3': ['Body Aches', 'Sore Throat', 'Vomiting', 'Constipation', 'Rash']\n",
        "  }\n",
        "  df = pd.DataFrame(data)\n",
        "  return df\n",
        "\n",
        "def recommend_diseases(symptoms, df):\n",
        "  \"\"\"Recommends potential diseases based on symptoms.\"\"\"\n",
        "  # 1. Data Preparation (Replace with actual feature engineering)\n",
        "  # For simplicity, we'll use basic string matching\n",
        "  df['Symptom_Match'] = df.apply(lambda row:\n",
        "                                    sum([1 for symptom in symptoms\n",
        "                                         if symptom in str(row['Symptom_1']) +\n",
        "                                            str(row['Symptom_2']) +\n",
        "                                            str(row['Symptom_3'])]),\n",
        "                                    axis=1)\n",
        "\n",
        "  # 2. Disease Recommendation\n",
        "  recommended_diseases = df.nlargest(3, 'Symptom_Match')['Disease'].tolist()\n",
        "  return recommended_diseases\n",
        "\n",
        "# Example Usage (within `model.py` or in `app.py`)\n",
        "if __name__ == \"__main__\":\n",
        "  df = create_dummy_data()\n",
        "  user_symptoms = ['Fever', 'Cough', 'Body Aches']\n",
        "  recommendations = recommend_diseases(user_symptoms, df)\n",
        "  print(\"Recommended Diseases:\", recommendations)"
      ],
      "metadata": {
        "colab": {
          "base_uri": "https://localhost:8080/"
        },
        "id": "ctkeEwxzDQdh",
        "outputId": "8fd19a89-4c32-4e47-f0ed-15a13f9457ce"
      },
      "execution_count": 8,
      "outputs": [
        {
          "output_type": "stream",
          "name": "stdout",
          "text": [
            "Recommended Diseases: ['Flu', 'Malaria', 'Typhoid']\n"
          ]
        }
      ]
    }
  ]
}