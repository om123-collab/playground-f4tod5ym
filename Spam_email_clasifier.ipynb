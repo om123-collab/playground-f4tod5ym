{
  "nbformat": 4,
  "nbformat_minor": 0,
  "metadata": {
    "colab": {
      "provenance": [],
      "authorship_tag": "ABX9TyPmdHH12NiR2G/STX7WQ8G2",
      "include_colab_link": true
    },
    "kernelspec": {
      "name": "python3",
      "display_name": "Python 3"
    },
    "language_info": {
      "name": "python"
    }
  },
  "cells": [
    {
      "cell_type": "markdown",
      "metadata": {
        "id": "view-in-github",
        "colab_type": "text"
      },
      "source": [
        "<a href=\"https://colab.research.google.com/github/om123-collab/playground-f4tod5ym/blob/master/Spam_email_clasifier.ipynb\" target=\"_parent\"><img src=\"https://colab.research.google.com/assets/colab-badge.svg\" alt=\"Open In Colab\"/></a>"
      ]
    },
    {
      "cell_type": "code",
      "source": [
        "import os"
      ],
      "metadata": {
        "id": "-rD9tfVaol_-"
      },
      "execution_count": 8,
      "outputs": []
    },
    {
      "cell_type": "code",
      "source": [
        "import pandas as pd\n",
        "from sklearn.model_selection import train_test_split\n",
        "from sklearn.feature_extraction.text import TfidfVectorizer\n",
        "from sklearn.linear_model import LogisticRegression\n",
        "from sklearn.metrics import accuracy_score\n",
        "import os\n",
        "\n",
        "# Get the current working directory\n",
        "current_directory = os.getcwd()\n",
        "print(f\"Current working directory: {current_directory}\")\n",
        "\n",
        "# Construct the full file path\n",
        "file_path = os.path.join(current_directory, 'spam.csv')\n",
        "\n",
        "# Load the email dataset\n",
        "# If the file is still not found, ensure it's placed in the current working directory or provide the correct absolute path.\n",
        "try:\n",
        "    data = pd.read_csv(file_path, encoding='latin-1')\n",
        "except FileNotFoundError:\n",
        "    print(f\"Error: File not found at {file_path}. Please place the 'spam.csv' file in this directory or provide the correct path.\")\n",
        "    # You can exit the script here if the file is crucial for further processing\n",
        "    # import sys\n",
        "    # sys.exit(1)\n",
        "\n",
        "# ... (Rest of your code remains the same)"
      ],
      "metadata": {
        "colab": {
          "base_uri": "https://localhost:8080/"
        },
        "id": "J-ylKe5Look4",
        "outputId": "9e787037-dd75-4a5e-ede7-ebadab6f36f0"
      },
      "execution_count": 9,
      "outputs": [
        {
          "output_type": "stream",
          "name": "stdout",
          "text": [
            "Current working directory: /content\n",
            "Error: File not found at /content/spam.csv. Please place the 'spam.csv' file in this directory or provide the correct path.\n"
          ]
        }
      ]
    }
  ]
}