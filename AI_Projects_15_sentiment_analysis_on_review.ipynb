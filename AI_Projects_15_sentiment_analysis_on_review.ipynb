{
  "nbformat": 4,
  "nbformat_minor": 0,
  "metadata": {
    "colab": {
      "provenance": [],
      "authorship_tag": "ABX9TyOBmHQHtWzM+yVCkkdOLib5",
      "include_colab_link": true
    },
    "kernelspec": {
      "name": "python3",
      "display_name": "Python 3"
    },
    "language_info": {
      "name": "python"
    }
  },
  "cells": [
    {
      "cell_type": "markdown",
      "metadata": {
        "id": "view-in-github",
        "colab_type": "text"
      },
      "source": [
        "<a href=\"https://colab.research.google.com/github/om123-collab/playground-f4tod5ym/blob/master/AI_Projects_15_sentiment_analysis_on_review.ipynb\" target=\"_parent\"><img src=\"https://colab.research.google.com/assets/colab-badge.svg\" alt=\"Open In Colab\"/></a>"
      ]
    },
    {
      "cell_type": "code",
      "source": [
        "from textblob import TextBlob\n",
        "\n",
        "def analyze_sentiment(review):\n",
        "  \"\"\"\n",
        "  Analyzes the sentiment of a given review using TextBlob.\n",
        "\n",
        "  Args:\n",
        "    review: The review text to analyze.\n",
        "\n",
        "  Returns:\n",
        "    A tuple containing the polarity and subjectivity scores.\n",
        "  \"\"\"\n",
        "  analysis = TextBlob(review)\n",
        "  return analysis.sentiment.polarity, analysis.sentiment.subjectivity\n",
        "\n",
        "if __name__ == \"__main__\":\n",
        "  reviews = [\n",
        "      \"This product is amazing!\",\n",
        "      \"I am very disappointed with this purchase.\",\n",
        "      \"The food was okay, nothing special.\",\n",
        "      \"I absolutely loved this movie!\"\n",
        "  ]\n",
        "\n",
        "  for review in reviews:\n",
        "    polarity, subjectivity = analyze_sentiment(review)\n",
        "    print(f\"Review: {review}\")\n",
        "    print(f\"Polarity: {polarity}\")\n",
        "    print(f\"Subjectivity: {subjectivity}\")\n",
        "    print(\"-\" * 20)\n",
        "\n",
        "    # Classify sentiment based on polarity\n",
        "    if polarity > 0:\n",
        "      print(\"Sentiment: Positive\\n\")\n",
        "    elif polarity == 0:\n",
        "      print(\"Sentiment: Neutral\\n\")\n",
        "    else:\n",
        "      print(\"Sentiment: Negative\\n\")"
      ],
      "metadata": {
        "colab": {
          "base_uri": "https://localhost:8080/"
        },
        "id": "XYR1e4a-e-Dz",
        "outputId": "77cdc889-af92-48a8-e4eb-591d1825be78"
      },
      "execution_count": 41,
      "outputs": [
        {
          "output_type": "stream",
          "name": "stdout",
          "text": [
            "Review: This product is amazing!\n",
            "Polarity: 0.7500000000000001\n",
            "Subjectivity: 0.9\n",
            "--------------------\n",
            "Sentiment: Positive\n",
            "\n",
            "Review: I am very disappointed with this purchase.\n",
            "Polarity: -0.9750000000000001\n",
            "Subjectivity: 0.9750000000000001\n",
            "--------------------\n",
            "Sentiment: Negative\n",
            "\n",
            "Review: The food was okay, nothing special.\n",
            "Polarity: 0.4285714285714286\n",
            "Subjectivity: 0.5357142857142857\n",
            "--------------------\n",
            "Sentiment: Positive\n",
            "\n",
            "Review: I absolutely loved this movie!\n",
            "Polarity: 0.875\n",
            "Subjectivity: 0.8\n",
            "--------------------\n",
            "Sentiment: Positive\n",
            "\n"
          ]
        }
      ]
    }
  ]
}