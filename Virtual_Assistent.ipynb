{
  "nbformat": 4,
  "nbformat_minor": 0,
  "metadata": {
    "colab": {
      "provenance": [],
      "authorship_tag": "ABX9TyNQs95m81NdUAypyqNrWTEi",
      "include_colab_link": true
    },
    "kernelspec": {
      "name": "python3",
      "display_name": "Python 3"
    },
    "language_info": {
      "name": "python"
    }
  },
  "cells": [
    {
      "cell_type": "markdown",
      "metadata": {
        "id": "view-in-github",
        "colab_type": "text"
      },
      "source": [
        "<a href=\"https://colab.research.google.com/github/om123-collab/playground-f4tod5ym/blob/master/Virtual_Assistent.ipynb\" target=\"_parent\"><img src=\"https://colab.research.google.com/assets/colab-badge.svg\" alt=\"Open In Colab\"/></a>"
      ]
    },
    {
      "cell_type": "code",
      "source": [
        "import datetime\n",
        "\n",
        "def get_user_input():\n",
        "  \"\"\"Gets user input and converts it to lowercase.\"\"\"\n",
        "  return input(\"You: \").lower()\n",
        "\n",
        "def get_current_time():\n",
        "  \"\"\"Returns the current time in a user-friendly format.\"\"\"\n",
        "  now = datetime.datetime.now()\n",
        "  return f\"The current time is {now.hour}:{now.minute}.\"\n",
        "\n",
        "def set_reminder(reminder_text):\n",
        "  \"\"\"Simulates setting a reminder (for demonstration purposes).\"\"\"\n",
        "  print(f\"Reminder set for: {reminder_text}\")\n",
        "\n",
        "def get_answer(question):\n",
        "  \"\"\"Provides basic answers to common questions.\"\"\"\n",
        "  if \"how are you\" in question:\n",
        "    return \"I'm doing well, thank you!\"\n",
        "  elif \"what is your name\" in question:\n",
        "    return \"I'm a simple virtual assistant.\"\n",
        "  else:\n",
        "    return \"I'm still learning. Can you ask me something else?\"\n",
        "\n",
        "def run_assistant():\n",
        "  \"\"\"Runs the virtual assistant.\"\"\"\n",
        "  print(\"Hello! How can I help you today?\")\n",
        "\n",
        "  while True:\n",
        "    user_input = get_user_input()\n",
        "\n",
        "    if \"time\" in user_input:\n",
        "      print(get_current_time())\n",
        "\n",
        "    elif \"remind me\" in user_input:\n",
        "      reminder_text = user_input.replace(\"remind me \", \"\")\n",
        "      set_reminder(reminder_text)\n",
        "\n",
        "    else:\n",
        "      print(get_answer(user_input))\n",
        "\n",
        "if __name__ == \"__main__\":\n",
        "  run_assistant()"
      ],
      "metadata": {
        "colab": {
          "base_uri": "https://localhost:8080/"
        },
        "id": "tsAv88ANIxy6",
        "outputId": "026c7860-825e-4312-84b8-c3c120898aea"
      },
      "execution_count": null,
      "outputs": [
        {
          "output_type": "stream",
          "name": "stdout",
          "text": [
            "Hello! How can I help you today?\n",
            "You: I want coffee\n",
            "I'm still learning. Can you ask me something else?\n",
            "You: I am looking for hotels in city\n",
            "I'm still learning. Can you ask me something else?\n"
          ]
        }
      ]
    }
  ]
}