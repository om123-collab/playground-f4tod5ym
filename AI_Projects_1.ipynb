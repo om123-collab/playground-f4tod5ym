{
  "nbformat": 4,
  "nbformat_minor": 0,
  "metadata": {
    "colab": {
      "provenance": [],
      "authorship_tag": "ABX9TyODwWC/owUUHFSc9XaYpq5K",
      "include_colab_link": true
    },
    "kernelspec": {
      "name": "python3",
      "display_name": "Python 3"
    },
    "language_info": {
      "name": "python"
    }
  },
  "cells": [
    {
      "cell_type": "markdown",
      "metadata": {
        "id": "view-in-github",
        "colab_type": "text"
      },
      "source": [
        "<a href=\"https://colab.research.google.com/github/om123-collab/playground-f4tod5ym/blob/master/AI_Projects_1.ipynb\" target=\"_parent\"><img src=\"https://colab.research.google.com/assets/colab-badge.svg\" alt=\"Open In Colab\"/></a>"
      ]
    },
    {
      "cell_type": "code",
      "source": [
        "def order_pizza():\n",
        "  \"\"\"Takes a simple pizza order.\"\"\"\n",
        "  print(\"Welcome to the Pizza Palace!\")\n",
        "  print(\"Menu:\")\n",
        "  print(\"1. Margherita\")\n",
        "  print(\"2. Pepperoni\")\n",
        "  print(\"3. Veggie\")\n",
        "\n",
        "  choice = input(\"Enter your choice (1-3): \")\n",
        "  if choice == '1':\n",
        "    pizza = \"Margherita\"\n",
        "  elif choice == '2':\n",
        "    pizza = \"Pepperoni\"\n",
        "  elif choice == '3':\n",
        "    pizza = \"Veggie\"\n",
        "  else:\n",
        "    print(\"Invalid choice.\")\n",
        "    return\n",
        "\n",
        "  extra_cheese = input(\"Do you want extra cheese? (y/n): \")\n",
        "  if extra_cheese.lower() == 'y':\n",
        "    pizza += \" with extra cheese\"\n",
        "\n",
        "  print(f\"You ordered a {pizza}.\")\n",
        "\n",
        "if __name__ == \"__main__\":\n",
        "  order_pizza()"
      ],
      "metadata": {
        "colab": {
          "base_uri": "https://localhost:8080/"
        },
        "id": "ny83K357Ll-r",
        "outputId": "d6dfef84-ac7b-4a64-a97d-0666bbb2aaf8"
      },
      "execution_count": 4,
      "outputs": [
        {
          "output_type": "stream",
          "name": "stdout",
          "text": [
            "Welcome to the Pizza Palace!\n",
            "Menu:\n",
            "1. Margherita\n",
            "2. Pepperoni\n",
            "3. Veggie\n",
            "Enter your choice (1-3): 1\n",
            "Do you want extra cheese? (y/n): y\n",
            "You ordered a Margherita with extra cheese.\n"
          ]
        }
      ]
    }
  ]
}