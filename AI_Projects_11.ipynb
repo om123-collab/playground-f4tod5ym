{
  "nbformat": 4,
  "nbformat_minor": 0,
  "metadata": {
    "colab": {
      "provenance": [],
      "authorship_tag": "ABX9TyPDkhT1T7646BjoOUWhS0mU",
      "include_colab_link": true
    },
    "kernelspec": {
      "name": "python3",
      "display_name": "Python 3"
    },
    "language_info": {
      "name": "python"
    }
  },
  "cells": [
    {
      "cell_type": "markdown",
      "metadata": {
        "id": "view-in-github",
        "colab_type": "text"
      },
      "source": [
        "<a href=\"https://colab.research.google.com/github/om123-collab/playground-f4tod5ym/blob/master/AI_Projects_11.ipynb\" target=\"_parent\"><img src=\"https://colab.research.google.com/assets/colab-badge.svg\" alt=\"Open In Colab\"/></a>"
      ]
    },
    {
      "cell_type": "code",
      "source": [
        "import random\n",
        "\n",
        "def predict_weather():\n",
        "  \"\"\"\n",
        "  Predicts the weather using randomness.\n",
        "\n",
        "  Returns:\n",
        "    A string describing the predicted weather.\n",
        "  \"\"\"\n",
        "\n",
        "  weather_conditions = [\n",
        "      \"Sunny\",\n",
        "      \"Cloudy\",\n",
        "      \"Rainy\",\n",
        "      \"Snowy\",\n",
        "      \"Partly Cloudy\",\n",
        "      \"Foggy\",\n",
        "      \"Stormy\"\n",
        "  ]\n",
        "\n",
        "  # Choose a random weather condition\n",
        "  predicted_weather = random.choice(weather_conditions)\n",
        "\n",
        "  return predicted_weather\n",
        "\n",
        "if __name__ == \"__main__\":\n",
        "  predicted_weather = predict_weather()\n",
        "  print(f\"Predicted weather: {predicted_weather}\")"
      ],
      "metadata": {
        "colab": {
          "base_uri": "https://localhost:8080/"
        },
        "id": "BuE5c_aiWQWe",
        "outputId": "452c4be5-bbe6-49c1-c778-4b33772f4ffd"
      },
      "execution_count": 3,
      "outputs": [
        {
          "output_type": "stream",
          "name": "stdout",
          "text": [
            "Predicted weather: Cloudy\n"
          ]
        }
      ]
    }
  ]
}