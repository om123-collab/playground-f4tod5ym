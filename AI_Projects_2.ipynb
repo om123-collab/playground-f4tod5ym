{
  "nbformat": 4,
  "nbformat_minor": 0,
  "metadata": {
    "colab": {
      "provenance": [],
      "authorship_tag": "ABX9TyNrOdpnPs9IZSyVbMQIm3S7",
      "include_colab_link": true
    },
    "kernelspec": {
      "name": "python3",
      "display_name": "Python 3"
    },
    "language_info": {
      "name": "python"
    }
  },
  "cells": [
    {
      "cell_type": "markdown",
      "metadata": {
        "id": "view-in-github",
        "colab_type": "text"
      },
      "source": [
        "<a href=\"https://colab.research.google.com/github/om123-collab/playground-f4tod5ym/blob/master/AI_Projects_2.ipynb\" target=\"_parent\"><img src=\"https://colab.research.google.com/assets/colab-badge.svg\" alt=\"Open In Colab\"/></a>"
      ]
    },
    {
      "cell_type": "code",
      "execution_count": null,
      "metadata": {
        "colab": {
          "base_uri": "https://localhost:8080/"
        },
        "id": "6IOgvqpVQRPh",
        "outputId": "5ad3caf1-a607-42a5-c600-bafba2471d4f"
      },
      "outputs": [
        {
          "output_type": "stream",
          "name": "stdout",
          "text": [
            "I'm thinking of a number between 1 and 100.\n",
            "Take a guess: 1\n",
            "Too low!\n",
            "Take a guess: 2\n",
            "Too low!\n",
            "Take a guess: 3\n",
            "Too low!\n",
            "Take a guess: 4\n",
            "Too low!\n",
            "Take a guess: n\n",
            "Invalid input. Please enter a number.\n",
            "Take a guess: 100\n",
            "Too high!\n",
            "Take a guess: 99\n",
            "Too high!\n",
            "Take a guess: 98\n",
            "Too high!\n"
          ]
        }
      ],
      "source": [
        "import random\n",
        "\n",
        "def number_guessing_game():\n",
        "  \"\"\"\n",
        "  A simple number guessing game.\n",
        "  \"\"\"\n",
        "  secret_number = random.randint(1, 100)\n",
        "  attempts = 0\n",
        "\n",
        "  print(\"I'm thinking of a number between 1 and 100.\")\n",
        "\n",
        "  while True:\n",
        "    try:\n",
        "      guess = int(input(\"Take a guess: \"))\n",
        "      attempts += 1\n",
        "\n",
        "      if guess < secret_number:\n",
        "        print(\"Too low!\")\n",
        "      elif guess > secret_number:\n",
        "        print(\"Too high!\")\n",
        "      else:\n",
        "        print(f\"Congratulations! You guessed the number in {attempts} attempts.\")\n",
        "        break\n",
        "    except ValueError:\n",
        "      print(\"Invalid input. Please enter a number.\")\n",
        "\n",
        "if __name__ == \"__main__\":\n",
        "  number_guessing_game()"
      ]
    }
  ]
}