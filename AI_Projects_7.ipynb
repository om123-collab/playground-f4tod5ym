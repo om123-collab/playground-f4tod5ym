{
  "nbformat": 4,
  "nbformat_minor": 0,
  "metadata": {
    "colab": {
      "provenance": [],
      "authorship_tag": "ABX9TyPwTMOTyNYtFizeTK0zVS43",
      "include_colab_link": true
    },
    "kernelspec": {
      "name": "python3",
      "display_name": "Python 3"
    },
    "language_info": {
      "name": "python"
    }
  },
  "cells": [
    {
      "cell_type": "markdown",
      "metadata": {
        "id": "view-in-github",
        "colab_type": "text"
      },
      "source": [
        "<a href=\"https://colab.research.google.com/github/om123-collab/playground-f4tod5ym/blob/master/AI_Projects_7.ipynb\" target=\"_parent\"><img src=\"https://colab.research.google.com/assets/colab-badge.svg\" alt=\"Open In Colab\"/></a>"
      ]
    },
    {
      "cell_type": "code",
      "source": [
        "import pandas as pd\n",
        "from sklearn.metrics.pairwise import cosine_similarity\n",
        "from sklearn.feature_extraction.text import CountVectorizer\n",
        "\n",
        "def create_content_based_recommender(df):\n",
        "  \"\"\"\n",
        "  Creates a content-based recommender system.\n",
        "\n",
        "  Args:\n",
        "    df: Pandas DataFrame containing movie data with columns:\n",
        "       - 'title': Movie title\n",
        "       - 'genres': Movie genres (comma-separated string)\n",
        "\n",
        "  Returns:\n",
        "    A function that takes a movie title as input and returns a list of\n",
        "    recommended movie titles.\n",
        "  \"\"\"\n",
        "\n",
        "  # Create a CountVectorizer object to convert text to numerical features\n",
        "  cv = CountVectorizer(stop_words='english')\n",
        "\n",
        "  # Create a document-term matrix\n",
        "  vectorized_genres = cv.fit_transform(df['genres'])\n",
        "\n",
        "  # Calculate cosine similarity between movies\n",
        "  cosine_sim = cosine_similarity(vectorized_genres, vectorized_genres)\n",
        "\n",
        "  def recommend_movies(title, cosine_sim=cosine_sim, df=df, k=6):\n",
        "    \"\"\"\n",
        "    Recommends movies based on content similarity.\n",
        "\n",
        "    Args:\n",
        "      title: Title of the movie to recommend for.\n",
        "      cosine_sim: Cosine similarity matrix.\n",
        "      df: Movie DataFrame.\n",
        "      k: Number of recommendations to return.\n",
        "\n",
        "    Returns:\n",
        "      A list of recommended movie titles.\n",
        "    \"\"\"\n",
        "\n",
        "    # Get index of the movie in the DataFrame\n",
        "    idx = df[df['title'] == title].index[0]\n",
        "\n",
        "    # Get the pairwise similarity scores of all movies with the given movie\n",
        "    scores = list(enumerate(cosine_sim[idx]))\n",
        "\n",
        "    # Sort the movies based on similarity scores\n",
        "    scores = sorted(scores, key=lambda x: x[1], reverse=True)\n",
        "\n",
        "    # Get the indices of the top k most similar movies\n",
        "    movie_indices = [i[0] for i in scores[1:k+1]]\n",
        "\n",
        "    # Return the top k recommended movie titles\n",
        "    return df['title'].iloc[movie_indices].tolist()\n",
        "\n",
        "  return recommend_movies\n",
        "\n",
        "# Sample Movie Data (Replace with your actual data)\n",
        "movie_data = pd.DataFrame({\n",
        "    'title': ['The Shawshank Redemption', 'The Godfather', 'The Dark Knight', '12 Angry Men', 'Pulp Fiction'],\n",
        "    'genres': ['Drama', 'Crime, Drama', 'Action, Thriller', 'Drama, Crime', 'Crime, Thriller']\n",
        "})\n",
        "\n",
        "# Create the recommendation function\n",
        "recommend_movies_func = create_content_based_recommender(movie_data)\n",
        "\n",
        "# Get recommendations for a movie\n",
        "recommendations = recommend_movies_func('The Dark Knight')\n",
        "print(f\"Recommended movies for 'The Dark Knight': {recommendations}\")"
      ],
      "metadata": {
        "colab": {
          "base_uri": "https://localhost:8080/"
        },
        "id": "2YIAe90uVSAG",
        "outputId": "f7df207f-e57a-4997-a3f5-5629a4feb15c"
      },
      "execution_count": 6,
      "outputs": [
        {
          "output_type": "stream",
          "name": "stdout",
          "text": [
            "Recommended movies for 'The Dark Knight': ['Pulp Fiction', 'The Shawshank Redemption', 'The Godfather', '12 Angry Men']\n"
          ]
        }
      ]
    }
  ]
}