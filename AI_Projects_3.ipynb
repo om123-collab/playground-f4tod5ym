{
  "nbformat": 4,
  "nbformat_minor": 0,
  "metadata": {
    "colab": {
      "provenance": [],
      "authorship_tag": "ABX9TyOf6wzdYk5MIV4m9Z+0jjDI",
      "include_colab_link": true
    },
    "kernelspec": {
      "name": "python3",
      "display_name": "Python 3"
    },
    "language_info": {
      "name": "python"
    }
  },
  "cells": [
    {
      "cell_type": "markdown",
      "metadata": {
        "id": "view-in-github",
        "colab_type": "text"
      },
      "source": [
        "<a href=\"https://colab.research.google.com/github/om123-collab/playground-f4tod5ym/blob/master/AI_Projects_3.ipynb\" target=\"_parent\"><img src=\"https://colab.research.google.com/assets/colab-badge.svg\" alt=\"Open In Colab\"/></a>"
      ]
    },
    {
      "cell_type": "code",
      "source": [
        "import random\n",
        "\n",
        "def describe_room(room):\n",
        "  \"\"\"\n",
        "  Prints a description of the current room.\n",
        "  \"\"\"\n",
        "  print(f\"You are in the {room['name']}.\")\n",
        "  print(room['description'])\n",
        "  print(\"Exits:\")\n",
        "  for direction, neighbor in room['neighbors'].items():\n",
        "    print(f\"- {direction}\")\n",
        "\n",
        "def get_input():\n",
        "  \"\"\"\n",
        "  Gets user input for the next move.\n",
        "  \"\"\"\n",
        "  while True:\n",
        "    action = input(\"What do you want to do? (go north/south/east/west, quit): \").lower()\n",
        "    if action in [\"go north\", \"go south\", \"go east\", \"go west\", \"quit\"]:\n",
        "      return action\n",
        "    else:\n",
        "      print(\"Invalid action. Please try again.\")\n",
        "\n",
        "def play_game():\n",
        "  \"\"\"\n",
        "  Plays the text-based adventure game.\n",
        "  \"\"\"\n",
        "  rooms = {\n",
        "      'hall': {\n",
        "          'name': 'Hall',\n",
        "          'description': \"You are in a long, dimly lit hall.\",\n",
        "          'neighbors': {'north': 'kitchen', 'south': 'bedroom'}\n",
        "      },\n",
        "      'kitchen': {\n",
        "          'name': 'Kitchen',\n",
        "          'description': \"You are in a small kitchen. There is a table with a knife on it.\",\n",
        "          'neighbors': {'south': 'hall'}\n",
        "      },\n",
        "      'bedroom': {\n",
        "          'name': 'Bedroom',\n",
        "          'description': \"You are in a cozy bedroom. There is a bed and a window.\",\n",
        "          'neighbors': {'north': 'hall'}\n",
        "      }\n",
        "  }\n",
        "\n",
        "  current_room = 'hall'\n",
        "\n",
        "  while True:\n",
        "    describe_room(rooms[current_room])\n",
        "    action = get_input()\n",
        "\n",
        "    if action == 'quit':\n",
        "      print(\"Goodbye!\")\n",
        "      break\n",
        "\n",
        "    direction = action.split()[1]\n",
        "    if direction in rooms[current_room]['neighbors']:\n",
        "      current_room = rooms[current_room]['neighbors'][direction]\n",
        "    else:\n",
        "      print(\"You can't go that way.\")\n",
        "\n",
        "if __name__ == \"__main__\":\n",
        "  play_game()"
      ],
      "metadata": {
        "colab": {
          "base_uri": "https://localhost:8080/"
        },
        "id": "zoSroWl9SGcY",
        "outputId": "9e366b40-39a8-41c0-fbc2-40dec42f68e6"
      },
      "execution_count": 2,
      "outputs": [
        {
          "output_type": "stream",
          "name": "stdout",
          "text": [
            "You are in the Hall.\n",
            "You are in a long, dimly lit hall.\n",
            "Exits:\n",
            "- north\n",
            "- south\n",
            "What do you want to do? (go north/south/east/west, quit): quit\n",
            "Goodbye!\n"
          ]
        }
      ]
    }
  ]
}