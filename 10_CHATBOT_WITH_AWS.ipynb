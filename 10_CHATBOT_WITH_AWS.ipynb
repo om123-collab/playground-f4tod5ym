{
  "nbformat": 4,
  "nbformat_minor": 0,
  "metadata": {
    "colab": {
      "provenance": [],
      "authorship_tag": "ABX9TyNXJf6h2rYxYB7FmeWDgCrG",
      "include_colab_link": true
    },
    "kernelspec": {
      "name": "python3",
      "display_name": "Python 3"
    },
    "language_info": {
      "name": "python"
    }
  },
  "cells": [
    {
      "cell_type": "markdown",
      "metadata": {
        "id": "view-in-github",
        "colab_type": "text"
      },
      "source": [
        "<a href=\"https://colab.research.google.com/github/om123-collab/playground-f4tod5ym/blob/master/10_CHATBOT_WITH_AWS.ipynb\" target=\"_parent\"><img src=\"https://colab.research.google.com/assets/colab-badge.svg\" alt=\"Open In Colab\"/></a>"
      ]
    },
    {
      "cell_type": "code",
      "source": [
        "import boto3 # Now you should be able to import boto3 without error.\n",
        "from botocore.exceptions import ClientError\n",
        "import nltk\n",
        "from nltk.stem import WordNetLemmatizer\n",
        "import datetime\n",
        "import dateutil.parser\n",
        "\n",
        "# Initialize AWS clients\n",
        "# Specify your desired AWS region here\n",
        "lex_client = boto3.client('lex-runtime', region_name='your-aws-region') # For example: 'us-east-1', 'us-west-2', etc.\n",
        "\n",
        "# Load your trained model (if applicable)\n",
        "# ...\n",
        "\n",
        "def get_bot_response(user_input):\n",
        "    \"\"\"\n",
        "    Gets a response from the chatbot.\n",
        "\n",
        "    Args:\n",
        "        user_input: The user's input text.\n",
        "\n",
        "    Returns:\n",
        "        The chatbot's response.\n",
        "    \"\"\"\n",
        "\n",
        "    # 1. Preprocess user input\n",
        "    #   - Tokenize (split into words)\n",
        "    #   - Lowercase\n",
        "    #   - Remove punctuation\n",
        "    #   - Lemmatization (reduce words to their root form)\n",
        "    #   - (Optional) Stemming (reduce words to their root)\n",
        "\n",
        "    # 2. Intent Recognition (using your chosen method)\n",
        "    #   - Use NLTK for basic rule-based matching or keyword extraction.\n",
        "    #   - Use more advanced models (spaCy, Transformers) for more sophisticated intent understanding.\n",
        "\n",
        "    # 3. Call Amazon Lex\n",
        "    try:\n",
        "        response = lex_client.post_text(\n",
        "            BotName='YourBotName',\n",
        "            UserId='user_id',\n",
        "            InputText=user_input\n",
        "        )\n",
        "        return response['Message']\n",
        "\n",
        "    except ClientError as e:\n",
        "        print(f\"Error interacting with Lex: {e}\")\n",
        "        return \"I'm having trouble understanding. Can you please rephrase?\"\n",
        "\n",
        "    # 4. Handle specific intents (e.g., 'GetWeather', 'OrderPizza')\n",
        "    #   - If intent is recognized, call appropriate functions.\n",
        "\n",
        "    # 5. Generate response based on intent and user input.\n",
        "\n",
        "if __name__ == \"__main__\":\n",
        "    while True:\n",
        "        user_input = input(\"You: \")\n",
        "        if user_input.lower() == 'quit':\n",
        "            break\n",
        "        bot_response = get_bot_response(user_input)\n",
        "        print(\"Bot:\", bot_response)"
      ],
      "metadata": {
        "colab": {
          "base_uri": "https://localhost:8080/"
        },
        "id": "bMLSHTVXNlre",
        "outputId": "077a033d-cc75-47b3-98bf-3b0efc16185f"
      },
      "execution_count": 5,
      "outputs": [
        {
          "name": "stdout",
          "output_type": "stream",
          "text": [
            "You: quit\n"
          ]
        }
      ]
    },
    {
      "cell_type": "code",
      "source": [
        "AWS_ACCESS_KEY_ID = \"YOUR_ACCESS_KEY_ID\"\n",
        "AWS_SECRET_ACCESS_KEY = \"YOUR_SECRET_ACCESS_KEY\"\n",
        "REGION_NAME = \"your-region\"\n",
        "\n",
        "# ... other configuration settings"
      ],
      "metadata": {
        "id": "c2SYrkahOPg1"
      },
      "execution_count": 6,
      "outputs": []
    }
  ]
}