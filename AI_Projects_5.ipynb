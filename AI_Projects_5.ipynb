{
  "nbformat": 4,
  "nbformat_minor": 0,
  "metadata": {
    "colab": {
      "provenance": [],
      "authorship_tag": "ABX9TyPqQbiHV8GenMkyDdWxyv9w",
      "include_colab_link": true
    },
    "kernelspec": {
      "name": "python3",
      "display_name": "Python 3"
    },
    "language_info": {
      "name": "python"
    }
  },
  "cells": [
    {
      "cell_type": "markdown",
      "metadata": {
        "id": "view-in-github",
        "colab_type": "text"
      },
      "source": [
        "<a href=\"https://colab.research.google.com/github/om123-collab/playground-f4tod5ym/blob/master/AI_Projects_5.ipynb\" target=\"_parent\"><img src=\"https://colab.research.google.com/assets/colab-badge.svg\" alt=\"Open In Colab\"/></a>"
      ]
    },
    {
      "cell_type": "code",
      "source": [
        "from textblob import TextBlob\n",
        "\n",
        "def analyze_sentiment(text):\n",
        "  \"\"\"\n",
        "  Analyzes the sentiment of the given text using TextBlob.\n",
        "\n",
        "  Args:\n",
        "    text: The text to analyze.\n",
        "\n",
        "  Returns:\n",
        "    A tuple containing the polarity and subjectivity scores.\n",
        "  \"\"\"\n",
        "  analysis = TextBlob(text)\n",
        "  return analysis.sentiment.polarity, analysis.sentiment.subjectivity\n",
        "\n",
        "if __name__ == \"__main__\":\n",
        "  text = input(\"Enter the text: \")\n",
        "  polarity, subjectivity = analyze_sentiment(text)\n",
        "\n",
        "  print(f\"Polarity: {polarity}\")\n",
        "  print(f\"Subjectivity: {subjectivity}\")\n",
        "\n",
        "  if polarity > 0:\n",
        "    print(\"Sentiment: Positive\")\n",
        "  elif polarity < 0:\n",
        "    print(\"Sentiment: Negative\")\n",
        "  else:\n",
        "    print(\"Sentiment: Neutral\")"
      ],
      "metadata": {
        "colab": {
          "base_uri": "https://localhost:8080/"
        },
        "id": "c4n3Wd8VTxR5",
        "outputId": "42f2545f-5fe2-4907-90d0-ab77f5fa656e"
      },
      "execution_count": 4,
      "outputs": [
        {
          "output_type": "stream",
          "name": "stdout",
          "text": [
            "Enter the text: hi\n",
            "Polarity: 0.0\n",
            "Subjectivity: 0.0\n",
            "Sentiment: Neutral\n"
          ]
        }
      ]
    }
  ]
}