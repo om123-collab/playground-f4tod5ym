{
  "nbformat": 4,
  "nbformat_minor": 0,
  "metadata": {
    "colab": {
      "provenance": [],
      "authorship_tag": "ABX9TyN8MOxzsvHyEmTXIG+xd/+K",
      "include_colab_link": true
    },
    "kernelspec": {
      "name": "python3",
      "display_name": "Python 3"
    },
    "language_info": {
      "name": "python"
    }
  },
  "cells": [
    {
      "cell_type": "markdown",
      "metadata": {
        "id": "view-in-github",
        "colab_type": "text"
      },
      "source": [
        "<a href=\"https://colab.research.google.com/github/om123-collab/playground-f4tod5ym/blob/master/AI_Projects_9.ipynb\" target=\"_parent\"><img src=\"https://colab.research.google.com/assets/colab-badge.svg\" alt=\"Open In Colab\"/></a>"
      ]
    },
    {
      "cell_type": "code",
      "execution_count": 1,
      "metadata": {
        "colab": {
          "base_uri": "https://localhost:8080/"
        },
        "id": "MupU7xaaVEAC",
        "outputId": "2d56a725-cba2-45f9-f20e-a9d80699c45e"
      },
      "outputs": [
        {
          "output_type": "stream",
          "name": "stdout",
          "text": [
            "Error: Image file not found at path/to/your/image.jpg\n"
          ]
        }
      ],
      "source": [
        "from PIL import Image, ImageFilter\n",
        "\n",
        "def apply_filter(image_path, filter_type):\n",
        "  \"\"\"\n",
        "  Applies the specified filter to the image.\n",
        "\n",
        "  Args:\n",
        "    image_path: Path to the image file.\n",
        "    filter_type: Type of filter to apply.\n",
        "                  Supported filters:\n",
        "                  - 'BLUR': Applies a Gaussian Blur.\n",
        "                  - 'CONTOUR': Detects edges using the Laplacian operator.\n",
        "                  - 'DETAIL': Enhances the sharpness of the image.\n",
        "                  - 'EDGE_ENHANCE': Enhances edges in the image.\n",
        "                  - 'EDGE_ENHANCE_MORE': Strongly enhances edges.\n",
        "                  - 'EMBOSS': Embosses the image.\n",
        "                  - 'FIND_EDGES': Detects edges using the Sobel operator.\n",
        "                  - 'SMOOTH': Smoothes the image.\n",
        "                  - 'SMOOTH_MORE': Smoothes the image more strongly.\n",
        "                  - 'SHARPEN': Sharpens the image.\n",
        "\n",
        "  Returns:\n",
        "    The filtered image as a PIL Image object.\n",
        "  \"\"\"\n",
        "\n",
        "  try:\n",
        "    img = Image.open(image_path)\n",
        "  except FileNotFoundError:\n",
        "    print(f\"Error: Image file not found at {image_path}\")\n",
        "    return None\n",
        "\n",
        "  if filter_type == 'BLUR':\n",
        "    filtered_img = img.filter(ImageFilter.BLUR)\n",
        "  elif filter_type == 'CONTOUR':\n",
        "    filtered_img = img.filter(ImageFilter.CONTOUR)\n",
        "  elif filter_type == 'DETAIL':\n",
        "    filtered_img = img.filter(ImageFilter.DETAIL)\n",
        "  elif filter_type == 'EDGE_ENHANCE':\n",
        "    filtered_img = img.filter(ImageFilter.EDGE_ENHANCE)\n",
        "  elif filter_type == 'EDGE_ENHANCE_MORE':\n",
        "    filtered_img = img.filter(ImageFilter.EDGE_ENHANCE_MORE)\n",
        "  elif filter_type == 'EMBOSS':\n",
        "    filtered_img = img.filter(ImageFilter.EMBOSS)\n",
        "  elif filter_type == 'FIND_EDGES':\n",
        "    filtered_img = img.filter(ImageFilter.FIND_EDGES)\n",
        "  elif filter_type == 'SMOOTH':\n",
        "    filtered_img = img.filter(ImageFilter.SMOOTH)\n",
        "  elif filter_type == 'SMOOTH_MORE':\n",
        "    filtered_img = img.filter(ImageFilter.SMOOTH_MORE)\n",
        "  elif filter_type == 'SHARPEN':\n",
        "    filtered_img = img.filter(ImageFilter.SHARPEN)\n",
        "  else:\n",
        "    print(f\"Error: Invalid filter type: {filter_type}\")\n",
        "    return None\n",
        "\n",
        "  return filtered_img\n",
        "\n",
        "# Example usage:\n",
        "if __name__ == \"__main__\":\n",
        "  image_path = \"path/to/your/image.jpg\"  # Replace with the actual image path\n",
        "  filter_type = \"BLUR\"  # Choose the desired filter\n",
        "\n",
        "  filtered_image = apply_filter(image_path, filter_type)\n",
        "\n",
        "  if filtered_image:\n",
        "    filtered_image.save(\"filtered_image.jpg\")  # Save the filtered image\n",
        "    print(f\"Filtered image saved as filtered_image.jpg\")"
      ]
    }
  ]
}