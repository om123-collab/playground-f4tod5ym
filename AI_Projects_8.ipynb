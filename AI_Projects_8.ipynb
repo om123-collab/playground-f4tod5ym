{
  "nbformat": 4,
  "nbformat_minor": 0,
  "metadata": {
    "colab": {
      "provenance": [],
      "authorship_tag": "ABX9TyP2siOmTFZ8i8k+wAEdzcB4",
      "include_colab_link": true
    },
    "kernelspec": {
      "name": "python3",
      "display_name": "Python 3"
    },
    "language_info": {
      "name": "python"
    }
  },
  "cells": [
    {
      "cell_type": "markdown",
      "metadata": {
        "id": "view-in-github",
        "colab_type": "text"
      },
      "source": [
        "<a href=\"https://colab.research.google.com/github/om123-collab/playground-f4tod5ym/blob/master/AI_Projects_8.ipynb\" target=\"_parent\"><img src=\"https://colab.research.google.com/assets/colab-badge.svg\" alt=\"Open In Colab\"/></a>"
      ]
    },
    {
      "cell_type": "code",
      "source": [
        "import random\n",
        "\n",
        "def create_flashcards(data):\n",
        "  \"\"\"\n",
        "  Creates a list of flashcards from the given data.\n",
        "\n",
        "  Args:\n",
        "    data: A list of tuples, where each tuple contains a question and its answer.\n",
        "\n",
        "  Returns:\n",
        "    A list of flashcards, where each flashcard is a dictionary\n",
        "    with 'question' and 'answer' keys.\n",
        "  \"\"\"\n",
        "  flashcards = []\n",
        "  for question, answer in data:\n",
        "    flashcards.append({'question': question, 'answer': answer})\n",
        "  return flashcards\n",
        "\n",
        "def shuffle_flashcards(flashcards):\n",
        "  \"\"\"\n",
        "  Shuffles the order of flashcards randomly.\n",
        "\n",
        "  Args:\n",
        "    flashcards: A list of flashcards.\n",
        "\n",
        "  Returns:\n",
        "    A shuffled list of flashcards.\n",
        "  \"\"\"\n",
        "  random.shuffle(flashcards)\n",
        "  return flashcards\n",
        "\n",
        "def start_quiz(flashcards):\n",
        "  \"\"\"\n",
        "  Starts the flashcard quiz.\n",
        "\n",
        "  Args:\n",
        "    flashcards: A list of flashcards.\n",
        "  \"\"\"\n",
        "  score = 0\n",
        "  for card in flashcards:\n",
        "    print(f\"Question: {card['question']}\")\n",
        "    user_answer = input(\"Your answer: \")\n",
        "    if user_answer.lower() == card['answer'].lower():\n",
        "      print(\"Correct!\\n\")\n",
        "      score += 1\n",
        "    else:\n",
        "      print(f\"Incorrect. The correct answer is: {card['answer']}\\n\")\n",
        "  print(f\"Your score: {score}/{len(flashcards)}\")\n",
        "\n",
        "if __name__ == \"__main__\":\n",
        "  # Sample flashcard data\n",
        "  flashcard_data = [\n",
        "      (\"What is the capital of France?\", \"Paris\"),\n",
        "      (\"What is the largest planet in our solar system?\", \"Jupiter\"),\n",
        "      (\"Who painted the Mona Lisa?\", \"Leonardo da Vinci\"),\n",
        "  ]\n",
        "\n",
        "  # Create flashcards\n",
        "  flashcards = create_flashcards(flashcard_data)\n",
        "\n",
        "  # Shuffle flashcards\n",
        "  shuffled_flashcards = shuffle_flashcards(flashcards)\n",
        "\n",
        "  # Start the quiz\n",
        "  start_quiz(shuffled_flashcards)"
      ],
      "metadata": {
        "colab": {
          "base_uri": "https://localhost:8080/"
        },
        "id": "bzlBQYhHV5aQ",
        "outputId": "9cc2ffe0-c7cf-48d9-b63e-523500ad858f"
      },
      "execution_count": 8,
      "outputs": [
        {
          "output_type": "stream",
          "name": "stdout",
          "text": [
            "Question: Who painted the Mona Lisa?\n",
            "Your answer: mre\n",
            "Incorrect. The correct answer is: Leonardo da Vinci\n",
            "\n",
            "Question: What is the largest planet in our solar system?\n",
            "Your answer: saturn\n",
            "Incorrect. The correct answer is: Jupiter\n",
            "\n",
            "Question: What is the capital of France?\n",
            "Your answer: paris\n",
            "Correct!\n",
            "\n",
            "Your score: 1/3\n"
          ]
        }
      ]
    }
  ]
}